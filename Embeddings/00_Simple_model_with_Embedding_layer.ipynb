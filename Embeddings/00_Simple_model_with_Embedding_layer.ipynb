{
 "cells": [
  {
   "cell_type": "code",
   "execution_count": 66,
   "metadata": {},
   "outputs": [],
   "source": [
    "import numpy as np\n",
    "import tensorflow.keras as keras\n",
    "\n",
    "from tensorflow.keras.preprocessing.sequence import pad_sequences\n",
    "\n",
    "import matplotlib.pyplot as plt\n",
    "plt.style.use('fivethirtyeight')\n",
    "\n",
    "from sklearn.decomposition import PCA"
   ]
  },
  {
   "cell_type": "markdown",
   "metadata": {},
   "source": [
    "## Prepare the data"
   ]
  },
  {
   "cell_type": "markdown",
   "metadata": {},
   "source": [
    "### Create the dataset"
   ]
  },
  {
   "cell_type": "code",
   "execution_count": 2,
   "metadata": {},
   "outputs": [],
   "source": [
    "# Define docs\n",
    "docs = [\n",
    "    'Amazing!',\n",
    "    'Well done!',\n",
    "    'Great job!',\n",
    "    'Good job',\n",
    "    'Nicely done!',\n",
    "    'Amazing job!',\n",
    "    'Not bad!',\n",
    "    'Very poor.',\n",
    "    'Not well',\n",
    "    'Not very well written',\n",
    "    'Purely bad',\n",
    "    'It\\'s not good.',\n",
    "    'Very badly done',\n",
    "    'Very bad'\n",
    "]\n",
    "    \n",
    "# Define labels\n",
    "labels = np.array([1] * 7 + [0] * 7)"
   ]
  },
  {
   "cell_type": "code",
   "execution_count": 3,
   "metadata": {},
   "outputs": [
    {
     "data": {
      "text/plain": [
       "(14, 14)"
      ]
     },
     "execution_count": 3,
     "metadata": {},
     "output_type": "execute_result"
    }
   ],
   "source": [
    "len(docs), len(labels)"
   ]
  },
  {
   "cell_type": "markdown",
   "metadata": {},
   "source": [
    "### Tokenize"
   ]
  },
  {
   "cell_type": "code",
   "execution_count": 4,
   "metadata": {},
   "outputs": [],
   "source": [
    "# Tokenize the docs\n",
    "tokenizer = keras.preprocessing.text.Tokenizer(50, oov_token = '<UNK>')\n",
    "tokenizer.fit_on_texts(docs)"
   ]
  },
  {
   "cell_type": "code",
   "execution_count": 5,
   "metadata": {},
   "outputs": [],
   "source": [
    "seqs = tokenizer.texts_to_sequences(docs)"
   ]
  },
  {
   "cell_type": "code",
   "execution_count": 6,
   "metadata": {},
   "outputs": [
    {
     "name": "stdout",
     "output_type": "stream",
     "text": [
      "amazing\n",
      "well done\n",
      "great job\n",
      "good job\n"
     ]
    }
   ],
   "source": [
    "# Sanity check\n",
    "word_dict = {k: v for v, k in tokenizer.word_index.items()}\n",
    "\n",
    "for doc in seqs[:4]:\n",
    "    print(' '.join([word_dict[word] for word in doc]))"
   ]
  },
  {
   "cell_type": "markdown",
   "metadata": {},
   "source": [
    "### Pad"
   ]
  },
  {
   "cell_type": "code",
   "execution_count": 7,
   "metadata": {},
   "outputs": [],
   "source": [
    "# Pad sequences\n",
    "max_len = max([len(x) for x in seqs]) + 2\n",
    "\n",
    "padded_seqs = pad_sequences(seqs, \n",
    "                            maxlen  = max_len, \n",
    "                            padding = 'post')"
   ]
  },
  {
   "cell_type": "code",
   "execution_count": 8,
   "metadata": {},
   "outputs": [
    {
     "data": {
      "text/plain": [
       "array([[ 8,  0,  0,  0,  0,  0],\n",
       "       [ 4,  5,  0,  0,  0,  0],\n",
       "       [10,  6,  0,  0,  0,  0],\n",
       "       [ 9,  6,  0,  0,  0,  0],\n",
       "       [11,  5,  0,  0,  0,  0],\n",
       "       [ 8,  6,  0,  0,  0,  0],\n",
       "       [ 2,  7,  0,  0,  0,  0],\n",
       "       [ 3, 12,  0,  0,  0,  0],\n",
       "       [ 2,  4,  0,  0,  0,  0],\n",
       "       [ 2,  3,  4, 13,  0,  0],\n",
       "       [14,  7,  0,  0,  0,  0],\n",
       "       [15,  2,  9,  0,  0,  0],\n",
       "       [ 3, 16,  5,  0,  0,  0],\n",
       "       [ 3,  7,  0,  0,  0,  0]])"
      ]
     },
     "execution_count": 8,
     "metadata": {},
     "output_type": "execute_result"
    }
   ],
   "source": [
    "# Sanity check\n",
    "padded_seqs"
   ]
  },
  {
   "cell_type": "markdown",
   "metadata": {},
   "source": [
    "## Define the model"
   ]
  },
  {
   "cell_type": "code",
   "execution_count": 9,
   "metadata": {},
   "outputs": [],
   "source": [
    "vocab_size = 50"
   ]
  },
  {
   "cell_type": "code",
   "execution_count": 59,
   "metadata": {},
   "outputs": [],
   "source": [
    "model = keras.Sequential()\n",
    "\n",
    "model.add(keras.layers.Embedding(vocab_size, 32, input_length = max_len))\n",
    "model.add(keras.layers.Flatten())              # We need to flatten the array before the dense layer\n",
    "model.add(keras.layers.Dense(32))\n",
    "model.add(keras.layers.Dropout(.2))\n",
    "model.add(keras.layers.Dense(32))\n",
    "model.add(keras.layers.Dropout(.2))\n",
    "model.add(keras.layers.Dense(1, activation = 'sigmoid'))"
   ]
  },
  {
   "cell_type": "code",
   "execution_count": 60,
   "metadata": {},
   "outputs": [],
   "source": [
    "# Compile the model\n",
    "model.compile(optimizer = 'adam', \n",
    "              loss      = 'binary_crossentropy', \n",
    "              metrics   = ['accuracy'])"
   ]
  },
  {
   "cell_type": "code",
   "execution_count": 61,
   "metadata": {},
   "outputs": [
    {
     "name": "stdout",
     "output_type": "stream",
     "text": [
      "Model: \"sequential_7\"\n",
      "_________________________________________________________________\n",
      "Layer (type)                 Output Shape              Param #   \n",
      "=================================================================\n",
      "embedding_7 (Embedding)      (None, 6, 32)             1600      \n",
      "_________________________________________________________________\n",
      "flatten_7 (Flatten)          (None, 192)               0         \n",
      "_________________________________________________________________\n",
      "dense_21 (Dense)             (None, 32)                6176      \n",
      "_________________________________________________________________\n",
      "dropout_14 (Dropout)         (None, 32)                0         \n",
      "_________________________________________________________________\n",
      "dense_22 (Dense)             (None, 32)                1056      \n",
      "_________________________________________________________________\n",
      "dropout_15 (Dropout)         (None, 32)                0         \n",
      "_________________________________________________________________\n",
      "dense_23 (Dense)             (None, 1)                 33        \n",
      "=================================================================\n",
      "Total params: 8,865\n",
      "Trainable params: 8,865\n",
      "Non-trainable params: 0\n",
      "_________________________________________________________________\n"
     ]
    }
   ],
   "source": [
    "model.summary()"
   ]
  },
  {
   "cell_type": "code",
   "execution_count": 62,
   "metadata": {},
   "outputs": [
    {
     "name": "stdout",
     "output_type": "stream",
     "text": [
      "WARNING:tensorflow:Entity <function Function._initialize_uninitialized_variables.<locals>.initialize_variables at 0x0000025F64AF2598> could not be transformed and will be executed as-is. Please report this to the AutoGraph team. When filing the bug, set the verbosity to 10 (on Linux, `export AUTOGRAPH_VERBOSITY=10`) and attach the full output. Cause: module 'gast' has no attribute 'Num'\n",
      "WARNING: Entity <function Function._initialize_uninitialized_variables.<locals>.initialize_variables at 0x0000025F64AF2598> could not be transformed and will be executed as-is. Please report this to the AutoGraph team. When filing the bug, set the verbosity to 10 (on Linux, `export AUTOGRAPH_VERBOSITY=10`) and attach the full output. Cause: module 'gast' has no attribute 'Num'\n"
     ]
    },
    {
     "data": {
      "text/plain": [
       "<tensorflow.python.keras.callbacks.History at 0x25f64ae52b0>"
      ]
     },
     "execution_count": 62,
     "metadata": {},
     "output_type": "execute_result"
    }
   ],
   "source": [
    "# Fit the model\n",
    "model.fit(padded_seqs, labels, epochs = 150, verbose = 0)"
   ]
  },
  {
   "cell_type": "code",
   "execution_count": 63,
   "metadata": {},
   "outputs": [
    {
     "data": {
      "text/plain": [
       "[<matplotlib.lines.Line2D at 0x25f662090f0>]"
      ]
     },
     "execution_count": 63,
     "metadata": {},
     "output_type": "execute_result"
    },
    {
     "data": {
      "image/png": "[encoded data removed]",
      "text/plain": [
       "<Figure size 432x288 with 1 Axes>"
      ]
     },
     "metadata": {},
     "output_type": "display_data"
    }
   ],
   "source": [
    "# plt.plot(model.history.history['accuracy'])\n",
    "plt.plot(model.history.history['loss'])"
   ]
  },
  {
   "cell_type": "markdown",
   "metadata": {},
   "source": [
    "## Predict"
   ]
  },
  {
   "cell_type": "code",
   "execution_count": 64,
   "metadata": {},
   "outputs": [],
   "source": [
    "new_seq = tokenizer.texts_to_sequences(['Amazing! Incredibly great job!', \n",
    "                                        'Very poor, sorry!', \n",
    "                                        'Well done, good work!'])\n",
    "\n",
    "new_seq = pad_sequences(new_seq, \n",
    "                            maxlen  = max_len, \n",
    "                            padding = 'post')"
   ]
  },
  {
   "cell_type": "code",
   "execution_count": 65,
   "metadata": {},
   "outputs": [
    {
     "data": {
      "text/plain": [
       "array([[9.5814735e-01],\n",
       "       [2.0411571e-06],\n",
       "       [8.9118057e-01]], dtype=float32)"
      ]
     },
     "execution_count": 65,
     "metadata": {},
     "output_type": "execute_result"
    }
   ],
   "source": [
    "model.predict(new_seq)"
   ]
  },
  {
   "cell_type": "markdown",
   "metadata": {},
   "source": [
    "## Visualize the embeddings"
   ]
  },
  {
   "cell_type": "code",
   "execution_count": 75,
   "metadata": {},
   "outputs": [],
   "source": [
    "# Get weights\n",
    "embeddings = model.layers[0].get_weights()[0]"
   ]
  },
  {
   "cell_type": "code",
   "execution_count": 102,
   "metadata": {},
   "outputs": [],
   "source": [
    "# Refer embeddings to words\n",
    "words_embeddings = {w: embeddings[idx] for w, idx in tokenizer.word_index.items()}\n",
    "\n",
    "emb_values = list(words_embeddings.values())\n",
    "emb_texts  = list(words_embeddings.keys()) "
   ]
  },
  {
   "cell_type": "code",
   "execution_count": 103,
   "metadata": {},
   "outputs": [],
   "source": [
    "# PCA\n",
    "pca = PCA(n_components = 2)\n",
    "pca.fit(emb_values)\n",
    "emb_2d = pca.transform(emb_values)"
   ]
  },
  {
   "cell_type": "code",
   "execution_count": 127,
   "metadata": {},
   "outputs": [
    {
     "data": {
      "image/png": "[encoded data removed]",
      "text/plain": [
       "<Figure size 648x504 with 1 Axes>"
      ]
     },
     "metadata": {},
     "output_type": "display_data"
    }
   ],
   "source": [
    "plt.figure(figsize = (9, 7))\n",
    "for i, text in enumerate(emb_texts):\n",
    "    x, y = emb_2d[i, 0], emb_2d[i, 1]\n",
    "    plt.scatter(x, y, alpha = .7, color = 'darkblue')\n",
    "    plt.text(x, y + .01, text, alpha = .7, fontsize = 10)\n",
    "plt.title('Embeddings after PCA')\n",
    "plt.xticks(fontsize = 10)\n",
    "plt.yticks(fontsize = 10)\n",
    "plt.show()"
   ]
  },
  {
   "cell_type": "code",
   "execution_count": null,
   "metadata": {},
   "outputs": [],
   "source": []
  }
 ],
 "metadata": {
  "kernelspec": {
   "display_name": "Python 3",
   "language": "python",
   "name": "python3"
  },
  "language_info": {
   "codemirror_mode": {
    "name": "ipython",
    "version": 3
   },
   "file_extension": ".py",
   "mimetype": "text/x-python",
   "name": "python",
   "nbconvert_exporter": "python",
   "pygments_lexer": "ipython3",
   "version": "3.6.5"
  }
 },
 "nbformat": 4,
 "nbformat_minor": 4
}
