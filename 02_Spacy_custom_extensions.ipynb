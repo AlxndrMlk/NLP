{
 "cells": [
  {
   "cell_type": "code",
   "execution_count": 1,
   "metadata": {},
   "outputs": [],
   "source": [
    "import spacy\n",
    "from spacy.tokens import Doc, Token, Span\n",
    "from spacy.matcher import PhraseMatcher"
   ]
  },
  {
   "cell_type": "markdown",
   "metadata": {},
   "source": [
    "## Extensions\n",
    "____________________\n",
    "\n",
    "*This notebook is based on / inspired by excellent course materials from https://campus.datacamp.com/courses/advanced-nlp-with-spacy course at DataCamp*\n",
    "\n",
    "____________________\n",
    "\n",
    "To set an extension we use `.set_extension()` method. This method can be used on:\n",
    "\n",
    "* `Doc`\n",
    "\n",
    "* `Span`\n",
    "\n",
    "* `Token`\n",
    "\n",
    "\n",
    "Let's see a set of examples:\n",
    "\n",
    "* `Doc.set_extension('title', default = None)`\n",
    "\n",
    "* `Span.set_extension('is_german_word', default = False)`\n",
    "\n",
    "* `Token.set_extension('has_color', default = False)`\n",
    "\n",
    "To access extensions we need to use `._.` to distinguish them from built-in properties:\n",
    "\n",
    "`doc._.title = 'Document 1'`\n",
    "\n",
    "#### Types of extensions\n",
    "\n",
    "* Attribute extensions\n",
    "\n",
    "* Property extensions\n",
    "\n",
    "* Method extensions"
   ]
  },
  {
   "cell_type": "code",
   "execution_count": 2,
   "metadata": {},
   "outputs": [],
   "source": [
    "# Get the model\n",
    "nlp = spacy.load('en_core_web_sm')"
   ]
  },
  {
   "cell_type": "code",
   "execution_count": 3,
   "metadata": {},
   "outputs": [],
   "source": [
    "# Define some data\n",
    "my_str = 'I used to live in Vienna 5 years ago.'\n",
    "doc1 = nlp(my_str)"
   ]
  },
  {
   "cell_type": "markdown",
   "metadata": {},
   "source": [
    "### Token level extensions"
   ]
  },
  {
   "cell_type": "code",
   "execution_count": 4,
   "metadata": {},
   "outputs": [],
   "source": [
    "# Token level attributes\n",
    "Token.set_extension('is_city', default = False)"
   ]
  },
  {
   "cell_type": "code",
   "execution_count": 5,
   "metadata": {},
   "outputs": [
    {
     "name": "stdout",
     "output_type": "stream",
     "text": [
      "[('I', False), ('used', False), ('to', False), ('live', False), ('in', False), ('Vienna', True), ('.', False)]\n"
     ]
    }
   ],
   "source": [
    "# Set extension\n",
    "doc1[5]._.is_city = True\n",
    "\n",
    "# Let's see how it works\n",
    "print([(token.text, token._.is_city) for token in doc1])"
   ]
  },
  {
   "cell_type": "markdown",
   "metadata": {},
   "source": [
    "### Doc level extensions"
   ]
  },
  {
   "cell_type": "code",
   "execution_count": 4,
   "metadata": {},
   "outputs": [],
   "source": [
    "# Define a getter function\n",
    "\n",
    "def get_has_number(doc):\n",
    "    # If any token is like_num - return True\n",
    "    return any(token.like_num for token in doc)\n"
   ]
  },
  {
   "cell_type": "code",
   "execution_count": 5,
   "metadata": {},
   "outputs": [],
   "source": [
    "# Register the Doc property extension 'has_number' with the getter get_has_number\n",
    "Doc.set_extension('has_number', getter = get_has_number)"
   ]
  },
  {
   "cell_type": "code",
   "execution_count": 6,
   "metadata": {},
   "outputs": [
    {
     "name": "stdout",
     "output_type": "stream",
     "text": [
      "has_number: True\n"
     ]
    }
   ],
   "source": [
    "# Check how it works\n",
    "print('has_number:', doc1._.has_number)"
   ]
  },
  {
   "cell_type": "markdown",
   "metadata": {},
   "source": [
    "### Span level extensions"
   ]
  },
  {
   "cell_type": "code",
   "execution_count": 7,
   "metadata": {},
   "outputs": [],
   "source": [
    "# Define a method\n",
    "\n",
    "def to_html(span, tag):\n",
    "    # Wrap the span text in a HTML tag and return it\n",
    "    return '<{tag}>{text}</{tag}>'.format(tag=tag, text=span.text)"
   ]
  },
  {
   "cell_type": "code",
   "execution_count": 8,
   "metadata": {},
   "outputs": [],
   "source": [
    "# Register the Span property extension 'to_html' with the method to_html\n",
    "Span.set_extension('to_html', method = to_html)"
   ]
  },
  {
   "cell_type": "code",
   "execution_count": 9,
   "metadata": {},
   "outputs": [
    {
     "name": "stdout",
     "output_type": "stream",
     "text": [
      "<h1>Hello world</h1>\n"
     ]
    }
   ],
   "source": [
    "# Process the text and call to_html method on the span with `h1` tag\n",
    "doc = nlp(\"Hello world, this is my sentence.\")\n",
    "span = doc[0:2]\n",
    "print(span._.to_html('h1'))"
   ]
  },
  {
   "cell_type": "markdown",
   "metadata": {},
   "source": [
    "## Extensions and entities"
   ]
  },
  {
   "cell_type": "markdown",
   "metadata": {},
   "source": [
    "### Example 1"
   ]
  },
  {
   "cell_type": "code",
   "execution_count": 11,
   "metadata": {},
   "outputs": [],
   "source": [
    "def get_wikipedia_url(span):\n",
    "    # Get a Wikipedia URL if the span has one of the labels\n",
    "    if span.label_ in ('PERSON', 'ORG', 'GPE', 'LOCATION'):\n",
    "        entity_text = span.text.replace(' ', '_')\n",
    "        return \"https://en.wikipedia.org/w/index.php?search=\" + entity_text\n",
    "    "
   ]
  },
  {
   "cell_type": "code",
   "execution_count": 14,
   "metadata": {},
   "outputs": [],
   "source": [
    "# Set the Span extension wikipedia_url using get getter get_wikipedia_url\n",
    "Span.set_extension('wikipedia_url', getter = get_wikipedia_url, force = True)"
   ]
  },
  {
   "cell_type": "code",
   "execution_count": 15,
   "metadata": {},
   "outputs": [
    {
     "name": "stdout",
     "output_type": "stream",
     "text": [
      "fifty years None\n",
      "David Bowie https://en.wikipedia.org/w/index.php?search=David_Bowie\n",
      "Annie Lennox https://en.wikipedia.org/w/index.php?search=Annie_Lennox\n"
     ]
    }
   ],
   "source": [
    "doc = nlp(\"In over fifty years from his very first recordings right through to his last album, David Bowie was at the vanguard of contemporary culture. Annie Lennox\")\n",
    "for ent in doc.ents:\n",
    "    # Print the text and Wikipedia URL of the entity\n",
    "    print(ent.text, ent._.wikipedia_url)"
   ]
  },
  {
   "cell_type": "markdown",
   "metadata": {},
   "source": [
    "### Example 2"
   ]
  },
  {
   "cell_type": "code",
   "execution_count": 2,
   "metadata": {},
   "outputs": [],
   "source": [
    "nlp2 = spacy.load('en_core_web_sm')"
   ]
  },
  {
   "cell_type": "code",
   "execution_count": 3,
   "metadata": {},
   "outputs": [],
   "source": [
    "# Let's define a list of districts in Tel Aviv\n",
    "distrs = ['Old Yafo', 'Shapira', 'Ezra', 'Florentin']\n",
    "\n",
    "# Add patterns\n",
    "patterns = list(nlp2.pipe(distrs))"
   ]
  },
  {
   "cell_type": "code",
   "execution_count": 4,
   "metadata": {},
   "outputs": [],
   "source": [
    "# Initialize Matcher\n",
    "matcher = PhraseMatcher(nlp2.vocab)\n",
    "\n",
    "matcher.add('DISTRICT', None, *patterns)"
   ]
  },
  {
   "cell_type": "code",
   "execution_count": 5,
   "metadata": {},
   "outputs": [],
   "source": [
    "def tlv_component(doc_):\n",
    "    \n",
    "    # Apply the matcher to the doc\n",
    "    matches = matcher(doc_)\n",
    "    \n",
    "    # Create a Span for each match and assign the label 'TLV_DISTRICT'\n",
    "    spans = [Span(doc_, start, end, label = 'TLV_DISTRICT')\n",
    "             for match_id, start, end in matches]\n",
    "    \n",
    "    # Overwrite the doc.ents with the matched spans\n",
    "    doc_.ents = tuple(spans)\n",
    "    \n",
    "    return doc_"
   ]
  },
  {
   "cell_type": "code",
   "execution_count": 6,
   "metadata": {},
   "outputs": [],
   "source": [
    "district_loc = {\n",
    "    'Old Yafo': 'Southwest',\n",
    "    'Shapira': 'South',\n",
    "    'Ezra': 'Southeast',\n",
    "    'Florentin': 'South'\n",
    "}"
   ]
  },
  {
   "cell_type": "code",
   "execution_count": 7,
   "metadata": {},
   "outputs": [],
   "source": [
    "# Add the component to the pipeline after the 'ner' component \n",
    "nlp2.add_pipe(tlv_component, after = 'ner')"
   ]
  },
  {
   "cell_type": "code",
   "execution_count": 8,
   "metadata": {},
   "outputs": [
    {
     "data": {
      "text/plain": [
       "[('tagger', <spacy.pipeline.pipes.Tagger at 0x204733c9dd8>),\n",
       " ('parser', <spacy.pipeline.pipes.DependencyParser at 0x204735280a8>),\n",
       " ('ner', <spacy.pipeline.pipes.EntityRecognizer at 0x20473528108>),\n",
       " ('tlv_component', <function __main__.tlv_component(doc_)>)]"
      ]
     },
     "execution_count": 8,
     "metadata": {},
     "output_type": "execute_result"
    }
   ],
   "source": [
    "nlp2.pipeline"
   ]
  },
  {
   "cell_type": "code",
   "execution_count": 9,
   "metadata": {},
   "outputs": [],
   "source": [
    "# Create a document\n",
    "doc2 = nlp2('I stayed in Old Yafo for a couple of days and then moved to Shapira to visit my friends. They told me\\\n",
    "that in their opinion Ezra is nicer than Florentin. I disagreed.')"
   ]
  },
  {
   "cell_type": "code",
   "execution_count": 10,
   "metadata": {},
   "outputs": [],
   "source": [
    "# Register district_loc and getter that looks up the span text in TLV districts\n",
    "Span.set_extension('district_location', getter = lambda span: district_loc[span.text], force = True)"
   ]
  },
  {
   "cell_type": "code",
   "execution_count": 14,
   "metadata": {},
   "outputs": [
    {
     "name": "stdout",
     "output_type": "stream",
     "text": [
      "DISTRICT: Old Yafo   | LABEL: TLV_DISTRICT | LOCATION: Southwest\n",
      "DISTRICT: Shapira    | LABEL: TLV_DISTRICT | LOCATION: South\n",
      "DISTRICT: Ezra       | LABEL: TLV_DISTRICT | LOCATION: Southeast\n",
      "DISTRICT: Florentin  | LABEL: TLV_DISTRICT | LOCATION: South\n"
     ]
    }
   ],
   "source": [
    "for ent in doc2.ents:\n",
    "    print(f'DISTRICT: {ent.text:10} | LABEL: {ent.label_:10} | LOCATION: {ent._.district_location}')"
   ]
  },
  {
   "cell_type": "code",
   "execution_count": null,
   "metadata": {},
   "outputs": [],
   "source": []
  }
 ],
 "metadata": {
  "kernelspec": {
   "display_name": "Python 3",
   "language": "python",
   "name": "python3"
  },
  "language_info": {
   "codemirror_mode": {
    "name": "ipython",
    "version": 3
   },
   "file_extension": ".py",
   "mimetype": "text/x-python",
   "name": "python",
   "nbconvert_exporter": "python",
   "pygments_lexer": "ipython3",
   "version": "3.6.5"
  }
 },
 "nbformat": 4,
 "nbformat_minor": 2
}
