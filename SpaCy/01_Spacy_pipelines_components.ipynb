{
 "cells": [
  {
   "cell_type": "code",
   "execution_count": 1,
   "metadata": {},
   "outputs": [],
   "source": [
    "import spacy\n",
    "from spacy.tokens import Span\n",
    "from spacy.matcher import PhraseMatcher"
   ]
  },
  {
   "cell_type": "markdown",
   "metadata": {},
   "source": [
    "## Pipeline components\n",
    "\n",
    "To add a custom component to the pipeline you use `nlp.add_pipe(component)`. \n",
    "\n",
    "In a function call you can specify where to add a component using the following parameters:\n",
    "\n",
    "* `last = True` - component will be added as the last pipeline step\n",
    "* `first = True` - component will be added as the first pipeline step\n",
    "* `before = 'ner'` - component will be added before 'ner' component\n",
    "* `after = 'tagger'` - component will be added after 'tagger'"
   ]
  },
  {
   "cell_type": "code",
   "execution_count": 2,
   "metadata": {},
   "outputs": [],
   "source": [
    "nlp = spacy.load('en_core_web_sm')"
   ]
  },
  {
   "cell_type": "code",
   "execution_count": 3,
   "metadata": {},
   "outputs": [],
   "source": [
    "# Let's start with something simple and just print len of the doc on the way\n",
    "def my_component(doc):\n",
    "    print(f'Your doc len: {len(doc)}')\n",
    "    return doc"
   ]
  },
  {
   "cell_type": "code",
   "execution_count": 4,
   "metadata": {},
   "outputs": [],
   "source": [
    "# Add component to the pipeline\n",
    "nlp.add_pipe(my_component, after = 'parser')"
   ]
  },
  {
   "cell_type": "code",
   "execution_count": 5,
   "metadata": {},
   "outputs": [
    {
     "data": {
      "text/plain": [
       "[('tagger', <spacy.pipeline.pipes.Tagger at 0x1fefe51ada0>),\n",
       " ('parser', <spacy.pipeline.pipes.DependencyParser at 0x1fefe6760a8>),\n",
       " ('my_component', <function __main__.my_component(doc)>),\n",
       " ('ner', <spacy.pipeline.pipes.EntityRecognizer at 0x1fefe676108>)]"
      ]
     },
     "execution_count": 5,
     "metadata": {},
     "output_type": "execute_result"
    }
   ],
   "source": [
    "nlp.pipeline"
   ]
  },
  {
   "cell_type": "code",
   "execution_count": 6,
   "metadata": {},
   "outputs": [
    {
     "name": "stdout",
     "output_type": "stream",
     "text": [
      "Your doc len: 7\n"
     ]
    }
   ],
   "source": [
    "doc = nlp('I always wanted to speak Lithuanian.')"
   ]
  },
  {
   "cell_type": "markdown",
   "metadata": {},
   "source": [
    "## Add phrase matcher to the pipeline"
   ]
  },
  {
   "cell_type": "code",
   "execution_count": 2,
   "metadata": {},
   "outputs": [],
   "source": [
    "nlp2 = spacy.load('en_core_web_sm')"
   ]
  },
  {
   "cell_type": "code",
   "execution_count": 3,
   "metadata": {},
   "outputs": [],
   "source": [
    "# Let's define a list of districts in Tel Aviv\n",
    "distrs = ['Old Yafo', 'Shapira', 'Ezra', 'Florentin']"
   ]
  },
  {
   "cell_type": "code",
   "execution_count": 4,
   "metadata": {},
   "outputs": [],
   "source": [
    "# Add patterns\n",
    "patterns = list(nlp2.pipe(distrs))"
   ]
  },
  {
   "cell_type": "code",
   "execution_count": 5,
   "metadata": {},
   "outputs": [],
   "source": [
    "# Initialize Matcher\n",
    "matcher = PhraseMatcher(nlp2.vocab)"
   ]
  },
  {
   "cell_type": "code",
   "execution_count": 6,
   "metadata": {},
   "outputs": [],
   "source": [
    "matcher.add('DISTRICT', None, *patterns)"
   ]
  },
  {
   "cell_type": "code",
   "execution_count": 7,
   "metadata": {},
   "outputs": [],
   "source": [
    "# Create a component\n",
    "\n",
    "def tlv_component(doc_):\n",
    "    \n",
    "    # Apply the matcher to the doc\n",
    "    matches = matcher(doc_)\n",
    "    \n",
    "    # Create a Span for each match and assign the label 'ANIMAL'\n",
    "    spans = (Span(doc_, start, end, label = 'TLV_DISTRICT')\n",
    "             for match_id, start, end in matches)\n",
    "    \n",
    "    # Overwrite the doc.ents with the matched spans\n",
    "    doc_.ents = spans\n",
    "    \n",
    "    return doc_"
   ]
  },
  {
   "cell_type": "code",
   "execution_count": 8,
   "metadata": {},
   "outputs": [],
   "source": [
    "# Add the component to the pipeline after the 'ner' component \n",
    "nlp2.add_pipe(tlv_component, after = 'ner')"
   ]
  },
  {
   "cell_type": "code",
   "execution_count": 9,
   "metadata": {},
   "outputs": [],
   "source": [
    "# Create a document\n",
    "doc2 = nlp2('I stayed in Old Yafo for a couple of days and then moved to Shapira to visit my friends. They told me\\\n",
    "that in their opinion Ezra is nicer than Florentin. I disagreed.')"
   ]
  },
  {
   "cell_type": "code",
   "execution_count": 10,
   "metadata": {},
   "outputs": [
    {
     "data": {
      "text/plain": [
       "[('tagger', <spacy.pipeline.pipes.Tagger at 0x1c84c119dd8>),\n",
       " ('parser', <spacy.pipeline.pipes.DependencyParser at 0x1c84c278048>),\n",
       " ('ner', <spacy.pipeline.pipes.EntityRecognizer at 0x1c84c2780a8>),\n",
       " ('tlv_component', <function __main__.tlv_component(doc_)>)]"
      ]
     },
     "execution_count": 10,
     "metadata": {},
     "output_type": "execute_result"
    }
   ],
   "source": [
    "nlp2.pipeline"
   ]
  },
  {
   "cell_type": "code",
   "execution_count": 11,
   "metadata": {},
   "outputs": [
    {
     "name": "stdout",
     "output_type": "stream",
     "text": [
      "Old Yafo TLV_DISTRICT\n",
      "Shapira TLV_DISTRICT\n",
      "Ezra TLV_DISTRICT\n",
      "Florentin TLV_DISTRICT\n"
     ]
    }
   ],
   "source": [
    "for ent in doc2.ents:\n",
    "    print(ent.text, ent.label_)"
   ]
  },
  {
   "cell_type": "code",
   "execution_count": null,
   "metadata": {},
   "outputs": [],
   "source": []
  }
 ],
 "metadata": {
  "kernelspec": {
   "display_name": "Python 3",
   "language": "python",
   "name": "python3"
  },
  "language_info": {
   "codemirror_mode": {
    "name": "ipython",
    "version": 3
   },
   "file_extension": ".py",
   "mimetype": "text/x-python",
   "name": "python",
   "nbconvert_exporter": "python",
   "pygments_lexer": "ipython3",
   "version": "3.6.5"
  }
 },
 "nbformat": 4,
 "nbformat_minor": 2
}
