{
 "cells": [
  {
   "cell_type": "code",
   "execution_count": 1,
   "metadata": {},
   "outputs": [],
   "source": [
    "import spacy\n",
    "from spacy.matcher import Matcher"
   ]
  },
  {
   "cell_type": "markdown",
   "metadata": {},
   "source": [
    "## Load model and create a document"
   ]
  },
  {
   "cell_type": "code",
   "execution_count": 2,
   "metadata": {},
   "outputs": [],
   "source": [
    "# Define a document\n",
    "string = 'My new iPhone 6 is white. Xiaiomi smartphones are pretty. I like to spend afternoons in Old Yafo and \\\n",
    "take pictures with my iPhone 7.'"
   ]
  },
  {
   "cell_type": "code",
   "execution_count": 3,
   "metadata": {},
   "outputs": [],
   "source": [
    "# Load a language model\n",
    "nlp = spacy.load(\"en_core_web_sm\")"
   ]
  },
  {
   "cell_type": "code",
   "execution_count": 4,
   "metadata": {},
   "outputs": [],
   "source": [
    "# Create a spacy document\n",
    "doc = nlp(string)"
   ]
  },
  {
   "cell_type": "code",
   "execution_count": 5,
   "metadata": {},
   "outputs": [
    {
     "data": {
      "text/plain": [
       "'My new iPhone 6 is white. Xiaiomi smartphones are pretty. I like to spend afternoons in Old Yafo and take pictures with my iPhone 7.'"
      ]
     },
     "execution_count": 5,
     "metadata": {},
     "output_type": "execute_result"
    }
   ],
   "source": [
    "doc.text"
   ]
  },
  {
   "cell_type": "markdown",
   "metadata": {},
   "source": [
    "## POS tagging"
   ]
  },
  {
   "cell_type": "code",
   "execution_count": 6,
   "metadata": {},
   "outputs": [
    {
     "name": "stdout",
     "output_type": "stream",
     "text": [
      "iPhone PROPN\n",
      "Xiaiomi PROPN\n",
      "Old PROPN\n",
      "Yafo PROPN\n",
      "iPhone PROPN\n"
     ]
    }
   ],
   "source": [
    "for token in doc:\n",
    "    if token.pos_ == 'PROPN':\n",
    "        print(token, token.pos_)"
   ]
  },
  {
   "cell_type": "markdown",
   "metadata": {},
   "source": [
    "## NER"
   ]
  },
  {
   "cell_type": "code",
   "execution_count": 7,
   "metadata": {},
   "outputs": [
    {
     "name": "stdout",
     "output_type": "stream",
     "text": [
      "iPhone ORG\n",
      "Xiaiomi PERSON\n",
      "Old Yafo ORG\n",
      "iPhone ORG\n"
     ]
    }
   ],
   "source": [
    "# Get entities\n",
    "for ent in doc.ents:\n",
    "    print(ent, ent.label_)"
   ]
  },
  {
   "cell_type": "markdown",
   "metadata": {},
   "source": [
    "## Rule-based matching"
   ]
  },
  {
   "cell_type": "code",
   "execution_count": 8,
   "metadata": {},
   "outputs": [],
   "source": [
    "# Initiate matcher\n",
    "matcher = Matcher(nlp.vocab)"
   ]
  },
  {
   "cell_type": "code",
   "execution_count": 9,
   "metadata": {},
   "outputs": [],
   "source": [
    "# Define a pattern\n",
    "pattern = [\n",
    "    {'LOWER': 'iphone'},\n",
    "    {'IS_DIGIT': True}\n",
    "]"
   ]
  },
  {
   "cell_type": "code",
   "execution_count": 10,
   "metadata": {},
   "outputs": [],
   "source": [
    "# Add pattern to matcher\n",
    "matcher.add('IPHONE_PATTERN', None, pattern)   # `None` because we don't use any callbacks now "
   ]
  },
  {
   "cell_type": "code",
   "execution_count": 11,
   "metadata": {},
   "outputs": [
    {
     "data": {
      "text/plain": [
       "[(9528407286733565721, 2, 4), (9528407286733565721, 25, 27)]"
      ]
     },
     "execution_count": 11,
     "metadata": {},
     "output_type": "execute_result"
    }
   ],
   "source": [
    "# Get matches - it returns a tuple of 3 vals\n",
    "matches = matcher(doc)\n",
    "matches"
   ]
  },
  {
   "cell_type": "code",
   "execution_count": 25,
   "metadata": {},
   "outputs": [
    {
     "name": "stdout",
     "output_type": "stream",
     "text": [
      "Your match: iPhone 6\n",
      "Your match: iPhone 7\n"
     ]
    }
   ],
   "source": [
    "for match_id, start, end in matches:\n",
    "    matched_span = doc[start:end]\n",
    "    print(f'Your match: {matched_span.text}')"
   ]
  },
  {
   "cell_type": "markdown",
   "metadata": {},
   "source": [
    "## More complex matching"
   ]
  },
  {
   "cell_type": "code",
   "execution_count": 30,
   "metadata": {},
   "outputs": [
    {
     "name": "stdout",
     "output_type": "stream",
     "text": [
      "Total matches found: 3\n",
      "Your match: install GZip\n",
      "Your match: install XZip\n",
      "Your match: install Ubuntu\n"
     ]
    }
   ],
   "source": [
    "matcher2 = Matcher(nlp.vocab)\n",
    "\n",
    "doc2 = nlp(\"I installed WinZip in 8th grade. Nevertheless, it didn\\'t work. I tried to install GZip, \\\n",
    "I tried to install XZip and others. Nothing worked. I am gonna install Ubuntu now.\")\n",
    "\n",
    "pattern2 = [{'LEMMA': 'install'}, {'POS': 'PROPN'}]\n",
    "\n",
    "# Add the pattern to the matcher and apply the matcher to the doc\n",
    "matcher2.add('DOWNLOAD_THINGS_PATTERN', None, pattern2)\n",
    "matches2 = matcher2(doc2)\n",
    "print('Total matches found:', len(matches2))\n",
    "\n",
    "# Iterate over the matches and print the span text\n",
    "for match_id, start, end in matches2:\n",
    "    print('Your match:', doc2[start:end].text)"
   ]
  },
  {
   "cell_type": "code",
   "execution_count": 28,
   "metadata": {},
   "outputs": [
    {
     "name": "stdout",
     "output_type": "stream",
     "text": [
      "WinZip\n",
      "GZip\n",
      "XZip\n",
      "Ubuntu\n"
     ]
    }
   ],
   "source": [
    "# No WinZip though\n",
    "for token in doc2:\n",
    "    if token.pos_ == 'PROPN':\n",
    "        print(token)"
   ]
  },
  {
   "cell_type": "code",
   "execution_count": null,
   "metadata": {},
   "outputs": [],
   "source": []
  }
 ],
 "metadata": {
  "kernelspec": {
   "display_name": "Python 3",
   "language": "python",
   "name": "python3"
  },
  "language_info": {
   "codemirror_mode": {
    "name": "ipython",
    "version": 3
   },
   "file_extension": ".py",
   "mimetype": "text/x-python",
   "name": "python",
   "nbconvert_exporter": "python",
   "pygments_lexer": "ipython3",
   "version": "3.6.5"
  }
 },
 "nbformat": 4,
 "nbformat_minor": 2
}
