{
 "cells": [
  {
   "cell_type": "code",
   "execution_count": 1,
   "metadata": {},
   "outputs": [],
   "source": [
    "import spacy\n",
    "from spacy.tokens import Doc, Token, Span"
   ]
  },
  {
   "cell_type": "markdown",
   "metadata": {},
   "source": [
    "# Scaling\n",
    "\n",
    "\n",
    "## `.pipe()` method\n",
    "\n",
    "\n",
    "If you want to process many docs then `.pipe()` method wil be more efficient than `for` loop with `nlp()` over each text. "
   ]
  },
  {
   "cell_type": "code",
   "execution_count": 7,
   "metadata": {},
   "outputs": [],
   "source": [
    "texts = ['I think it\\'s amazing', 'John was here before us', \n",
    "         'I read an inspiring book by Ray Dalio, but don\\'t remember the title',\n",
    "         'I read a book by Wittgenstein while I was studying philosophy',\n",
    "         'Freud was a good writer']"
   ]
  },
  {
   "cell_type": "code",
   "execution_count": 8,
   "metadata": {},
   "outputs": [],
   "source": [
    "# Get the model\n",
    "nlp = spacy.load('en_core_web_sm')"
   ]
  },
  {
   "cell_type": "code",
   "execution_count": 9,
   "metadata": {},
   "outputs": [
    {
     "name": "stdout",
     "output_type": "stream",
     "text": [
      "['amazing']\n",
      "[]\n",
      "['inspiring']\n",
      "[]\n",
      "['good']\n"
     ]
    }
   ],
   "source": [
    "# The efficirnt way:\n",
    "for doc in nlp.pipe(texts):\n",
    "    print([token.text for token in doc if token.pos_ == 'ADJ'])"
   ]
  },
  {
   "cell_type": "markdown",
   "metadata": {},
   "source": [
    "## `.pipe()` with extensions"
   ]
  },
  {
   "cell_type": "code",
   "execution_count": 11,
   "metadata": {},
   "outputs": [],
   "source": [
    "data = [\n",
    "    (\n",
    "        \"\"\"\n",
    "    כמו איזה שני משוגעים בחוף\n",
    "    שמרנו רגעים בלב שתינו ת'נוף\n",
    "    ואת היית יפה כמו פרח שאסור היה לקטוף\n",
    "    רציתי רק לקטוף אותך\n",
    "    רציתי לקטוף\n",
    "        \"\"\", \n",
    "        {'song': 'Shnei Meshugaim',\n",
    "         'artist': 'Omer Adam'}\n",
    "    ),\n",
    "    (\n",
    "        \"\"\"\n",
    "    Israël est magnifique mais un peu problématique\n",
    "    Chez nous on disait maspik\n",
    "    Comme ci comme ça ze hatrick\n",
    "    Par exemple sur tel aviv il y'a tout de tout sans déconner\n",
    "    Mais c'est toujours pas parfait\n",
    "    Attends j'vais tout t'expliquer\n",
    "        \"\"\",\n",
    "        {'song': 'Comme ci comme ça',\n",
    "         'artist': 'Stéphane Legar'}\n",
    "    )\n",
    "]"
   ]
  },
  {
   "cell_type": "code",
   "execution_count": 10,
   "metadata": {},
   "outputs": [],
   "source": [
    "# Set doc-level extensions\n",
    "Doc.set_extension('song', default = None)\n",
    "Doc.set_extension('artist', default = None)"
   ]
  },
  {
   "cell_type": "code",
   "execution_count": 16,
   "metadata": {},
   "outputs": [
    {
     "name": "stdout",
     "output_type": "stream",
     "text": [
      "\n",
      "    כמו איזה שני משוגעים בחוף\n",
      "    שמרנו רגעים בלב שתינו ת'נוף\n",
      "    ואת היית יפה כמו פרח שאסור היה לקטוף\n",
      "    רציתי רק לקטוף אותך\n",
      "    רציתי לקטוף\n",
      "         \n",
      " — 'Shnei Meshugaim' by Omer Adam \n",
      "\n",
      "\n",
      "    Israël est magnifique mais un peu problématique\n",
      "    Chez nous on disait maspik\n",
      "    Comme ci comme ça ze hatrick\n",
      "    Par exemple sur tel aviv il y'a tout de tout sans déconner\n",
      "    Mais c'est toujours pas parfait\n",
      "    Attends j'vais tout t'expliquer\n",
      "         \n",
      " — 'Comme ci comme ça' by Stéphane Legar \n",
      "\n"
     ]
    }
   ],
   "source": [
    "# Set extensions from the context\n",
    "for doc, context in nlp.pipe(data, as_tuples = True):\n",
    "    doc._.song = context['song']\n",
    "    doc._.artist = context['artist']\n",
    "    \n",
    "    # Print the text and custom attribute data\n",
    "    print(doc.text, '\\n', \"— '{}' by {}\".format(doc._.song, doc._.artist), '\\n')"
   ]
  },
  {
   "cell_type": "markdown",
   "metadata": {},
   "source": [
    "## Using `.make_doc()`\n",
    "\n",
    "When you already have nlp built and you need to build a `Doc` object but not apply all the pipeline, then `.make_doc()` is your friend:"
   ]
  },
  {
   "cell_type": "code",
   "execution_count": 22,
   "metadata": {},
   "outputs": [
    {
     "data": {
      "text/plain": [
       "()"
      ]
     },
     "execution_count": 22,
     "metadata": {},
     "output_type": "execute_result"
    }
   ],
   "source": [
    "nlp.make_doc('John, yes I do').ents"
   ]
  },
  {
   "cell_type": "code",
   "execution_count": 23,
   "metadata": {},
   "outputs": [
    {
     "data": {
      "text/plain": [
       "(John,)"
      ]
     },
     "execution_count": 23,
     "metadata": {},
     "output_type": "execute_result"
    }
   ],
   "source": [
    "nlp('John, yes I do').ents"
   ]
  },
  {
   "cell_type": "markdown",
   "metadata": {},
   "source": [
    "## Using `.disable_pipes()`\n",
    "\n",
    "When you want to temporarily disable some of the pipeline components, you can do it with `.disable_pipes()` method within a `with` statement."
   ]
  },
  {
   "cell_type": "code",
   "execution_count": 24,
   "metadata": {},
   "outputs": [
    {
     "name": "stdout",
     "output_type": "stream",
     "text": [
      "()\n"
     ]
    }
   ],
   "source": [
    "with nlp.disable_pipes('ner'):\n",
    "    doc = nlp('John, yes I do')\n",
    "    print(doc.ents)"
   ]
  }
 ],
 "metadata": {
  "kernelspec": {
   "display_name": "Python 3",
   "language": "python",
   "name": "python3"
  },
  "language_info": {
   "codemirror_mode": {
    "name": "ipython",
    "version": 3
   },
   "file_extension": ".py",
   "mimetype": "text/x-python",
   "name": "python",
   "nbconvert_exporter": "python",
   "pygments_lexer": "ipython3",
   "version": "3.6.5"
  }
 },
 "nbformat": 4,
 "nbformat_minor": 2
}
